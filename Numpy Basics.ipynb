{
 "cells": [
  {
   "cell_type": "markdown",
   "metadata": {},
   "source": [
    "# Numpy Basics"
   ]
  },
  {
   "cell_type": "markdown",
   "metadata": {},
   "source": [
    "## Exercise 1"
   ]
  },
  {
   "cell_type": "markdown",
   "metadata": {},
   "source": [
    "### Load the amount pledged (in U.S. dollars) from the data file into an array of floating point values. Then, produce the following descriptive statistics:\n",
    "### Total number of projects, Amount pledged: minimum, mean, standard deviation, and maximum, Proportion (or percentage) of projects that earned total pledges of at least 1,000"
   ]
  },
  {
   "cell_type": "code",
   "execution_count": 1,
   "metadata": {},
   "outputs": [
    {
     "name": "stdout",
     "output_type": "stream",
     "text": [
      "4184\n"
     ]
    }
   ],
   "source": [
    "# Import numpy\n",
    "import numpy as np\n",
    "# Print the total number of projects\n",
    "p = np.loadtxt(\"kickstarter.csv\", dtype=str, delimiter=',', skiprows=1, usecols=1)\n",
    "print(len(p))"
   ]
  },
  {
   "cell_type": "code",
   "execution_count": 2,
   "metadata": {},
   "outputs": [
    {
     "name": "stdout",
     "output_type": "stream",
     "text": [
      "The minimum of the amount pledged: 0.0\n",
      "The mean of the amount pledged: 1242.1242686279124\n",
      "The standard deviation of the amount pledged: 5177.92798555567\n",
      "The maximum of the amount pledged: 111111.77\n"
     ]
    }
   ],
   "source": [
    "# Load the amount pledged (in U.S. dollars) from the data file into an array of floating point values\n",
    "pledged_amount = np.loadtxt(\"kickstarter.csv\", dtype=float, delimiter=',', skiprows=1, usecols=11)\n",
    "print('The minimum of the amount pledged:', pledged_amount.min())\n",
    "print('The mean of the amount pledged:', pledged_amount.mean())\n",
    "print('The standard deviation of the amount pledged:',pledged_amount.std())\n",
    "print('The maximum of the amount pledged:',pledged_amount.max())"
   ]
  },
  {
   "cell_type": "code",
   "execution_count": 3,
   "metadata": {},
   "outputs": [
    {
     "name": "stdout",
     "output_type": "stream",
     "text": [
      "19.622370936902485 %\n"
     ]
    }
   ],
   "source": [
    "# Percentage of projects that earned total pledges of at least $1,000\n",
    "atleast1000 = len(pledged_amount[pledged_amount>= 1000])/len(pledged_amount)\n",
    "print(atleast1000*100, '%')"
   ]
  },
  {
   "cell_type": "markdown",
   "metadata": {},
   "source": [
    "## Exercise 2"
   ]
  },
  {
   "cell_type": "markdown",
   "metadata": {},
   "source": [
    "### Load the project categories from the data file into an array of strings. Count the frequency of each category, and then calculate the proportion of observations that fall into each category. Return both results (category and proportion of observations) in the form of a dictionary. Hint: Look at the help for np.unique.\n",
    "### Which project category is the most popular (in terms of the number of projects)? Least popular? Write your answer in a markdown cell."
   ]
  },
  {
   "cell_type": "code",
   "execution_count": 4,
   "metadata": {},
   "outputs": [
    {
     "name": "stdout",
     "output_type": "stream",
     "text": [
      "(array(['Ceramics', 'Conceptual Art', 'Digital Art', 'Illustration',\n",
      "       'Painting'], dtype='<U14'), array([ 204,  879, 1054,  461, 1586], dtype=int64))\n"
     ]
    }
   ],
   "source": [
    "# Load the project categories from the data file into an array of strings.\n",
    "pledged_category = np.loadtxt(\"kickstarter.csv\", dtype=str, delimiter=',', skiprows=1, usecols=12)\n",
    "# If true, return the number of times each unique category item appears\n",
    "unique_category = np.unique(pledged_category, return_counts = True)\n",
    "print(unique_category)"
   ]
  },
  {
   "cell_type": "code",
   "execution_count": 5,
   "metadata": {},
   "outputs": [
    {
     "name": "stdout",
     "output_type": "stream",
     "text": [
      "{'Ceramics': 204, 'Conceptual Art': 879, 'Digital Art': 1054, 'Illustration': 461, 'Painting': 1586}\n",
      "{'Ceramics': 0.04875717017208413, 'Conceptual Art': 0.21008604206500955, 'Digital Art': 0.2519120458891013, 'Illustration': 0.11018164435946463, 'Painting': 0.37906309751434036}\n"
     ]
    }
   ],
   "source": [
    "# Count the frequency of each category and return the result in the form of a dictionary\n",
    "# Calculate the proportion of observations that fall into each category and return the result in the form of a dictionary\n",
    "number_all_category = dict(zip(unique_category[0], unique_category[1]))\n",
    "number_proportion_category = dict(zip(unique_category[0], unique_category[1]/len(pledged_category)))\n",
    "print(number_all_category)\n",
    "print(number_proportion_category)"
   ]
  },
  {
   "cell_type": "code",
   "execution_count": 6,
   "metadata": {},
   "outputs": [
    {
     "name": "stdout",
     "output_type": "stream",
     "text": [
      "Ceramics 204\n",
      "Conceptual Art 879\n",
      "Digital Art 1054\n",
      "Illustration 461\n",
      "Painting 1586\n",
      "Ceramics 4.9%\n",
      "Conceptual Art 21.0%\n",
      "Digital Art 25.2%\n",
      "Illustration 11.0%\n",
      "Painting 37.9%\n"
     ]
    }
   ],
   "source": [
    "# Use loop to present the answers in a clear way\n",
    "for a, b in number_all_category.items():\n",
    "    print(a, b)\n",
    "for a, b in number_proportion_category.items():\n",
    "    print(a, '{}%'.format(round(b*100, 1)))"
   ]
  },
  {
   "cell_type": "markdown",
   "metadata": {},
   "source": [
    "## Exercise 3"
   ]
  },
  {
   "cell_type": "markdown",
   "metadata": {},
   "source": [
    "### Import the project states from the data file into an array of strings. For each project category, calculate the proportion (or percentage) of projects that were successful. Which project category is the most successful (on average)? Least successful (on average)?"
   ]
  },
  {
   "cell_type": "code",
   "execution_count": 8,
   "metadata": {},
   "outputs": [
    {
     "name": "stdout",
     "output_type": "stream",
     "text": [
      "For the Ceramics, the proportion of projects that are successful: 41.17647058823529 %\n"
     ]
    }
   ],
   "source": [
    "# Import the project states from the data file into an array of strings\n",
    "states = np.loadtxt(\"kickstarter.csv\", dtype = str, delimiter=',',skiprows = 1, usecols = 4)\n",
    "ceramics_s = sum(states[pledged_category == 'Ceramics'] == 'successful')/len(states[pledged_category == 'Ceramics'])\n",
    "print(\"For the Ceramics, the proportion of projects that are successful:\", ceramics_s*100,\"%\")"
   ]
  },
  {
   "cell_type": "code",
   "execution_count": 9,
   "metadata": {},
   "outputs": [
    {
     "name": "stdout",
     "output_type": "stream",
     "text": [
      "For the Conceptual Art, the proportion of projects that are successful: 36.6325369738339 %\n"
     ]
    }
   ],
   "source": [
    "concep_art_s = sum(states[pledged_category == 'Conceptual Art'] == 'successful')/len(states[pledged_category == 'Conceptual Art'])\n",
    "print(\"For the Conceptual Art, the proportion of projects that are successful:\", concep_art_s*100,\"%\")"
   ]
  },
  {
   "cell_type": "code",
   "execution_count": 10,
   "metadata": {},
   "outputs": [
    {
     "name": "stdout",
     "output_type": "stream",
     "text": [
      "For the Digital Art, the proportion of projects that are successful: 27.13472485768501 %\n"
     ]
    }
   ],
   "source": [
    "dig_art_s = sum(states[pledged_category == 'Digital Art'] == 'successful')/len(states[pledged_category == 'Digital Art'])\n",
    "print(\"For the Digital Art, the proportion of projects that are successful:\", dig_art_s*100,\"%\")"
   ]
  },
  {
   "cell_type": "code",
   "execution_count": 11,
   "metadata": {},
   "outputs": [
    {
     "name": "stdout",
     "output_type": "stream",
     "text": [
      "For the Illustration, the proportion of projects that are successful: 0.0 %\n"
     ]
    }
   ],
   "source": [
    "illustration_s = sum(states[pledged_category == 'Illustration'] == 'successful')/len(states[pledged_category == 'Illustration'])\n",
    "print(\"For the Illustration, the proportion of projects that are successful:\", illustration_s*100,\"%\")"
   ]
  },
  {
   "cell_type": "code",
   "execution_count": 12,
   "metadata": {},
   "outputs": [
    {
     "name": "stdout",
     "output_type": "stream",
     "text": [
      "For the Painting, the proportion of projects that are successful: 0.0 %\n"
     ]
    }
   ],
   "source": [
    "Painting_s = sum(states[pledged_category == 'Painting'] == 'successful')/len(states[pledged_category == 'Painting'])\n",
    "print(\"For the Painting, the proportion of projects that are successful:\", Painting_s*100,\"%\")"
   ]
  },
  {
   "cell_type": "markdown",
   "metadata": {},
   "source": [
    "### In this sense, the most successful project category is Ceramics and the least successful project categories are Illustration and Painting."
   ]
  },
  {
   "cell_type": "markdown",
   "metadata": {},
   "source": [
    "## Exercise 4\n",
    "\n",
    "### Load the staff pick and spotlight columns from the data file into (separate) arrays of strings. Calculate the total number of projects in each featured category, and then calculate the associated success rates in each category (proportion of successful projects). Which feature (staff pick or spotlight) is associated with a higher proportion of successful projects?"
   ]
  },
  {
   "cell_type": "code",
   "execution_count": 13,
   "metadata": {},
   "outputs": [
    {
     "name": "stdout",
     "output_type": "stream",
     "text": [
      "['successful' 'successful' 'successful' ... 'failed' 'failed' 'failed']\n"
     ]
    }
   ],
   "source": [
    "# Load the staff pick and spotlight columns from the data file into separate arrays of strings.\n",
    "states = np.loadtxt('kickstarter.csv', dtype = str, delimiter=',',skiprows=1,usecols=4)\n",
    "print(states)"
   ]
  },
  {
   "cell_type": "code",
   "execution_count": 15,
   "metadata": {},
   "outputs": [
    {
     "name": "stdout",
     "output_type": "stream",
     "text": [
      "staff_pick: True, Project success rate: 72.8%\n",
      "staff_pick: False, Project success rate: 13.4%\n",
      "spotlight: True, Project success rate: 100.0%\n",
      "spotlight: False, Project success rate: 0.0%\n"
     ]
    }
   ],
   "source": [
    "# Load the staff pick and spotlight columns from the data file into (separate) arrays of strings. \n",
    "staff_pick = np.loadtxt('kickstarter.csv', dtype= str, delimiter=',',skiprows=1,usecols=8)\n",
    "spotlight = np.loadtxt('kickstarter.csv', dtype= str, delimiter=',',skiprows=1,usecols=13)\n",
    "\n",
    "# Calculate the total number of projects in each featured category, and then calculate the associated success rates in each category\n",
    "staff_pick_true = sum(states[staff_pick == 'TRUE'] == 'successful')/len(states[staff_pick == 'TRUE'])\n",
    "staff_pick_false = sum(states[staff_pick == 'FALSE'] == 'successful')/len(states[staff_pick == 'FALSE'])\n",
    "spotlight_true = sum(states[spotlight == 'TRUE'] == 'successful')/len(states[spotlight == 'TRUE'])\n",
    "spotlight_false = sum(states[spotlight == 'FALSE'] == 'successful')/len(states[spotlight == 'FALSE'])\n",
    "\n",
    "# Print each feature of the proportion of successful projects\n",
    "print('staff_pick: True, Project success rate: {}%'.format(round(staff_pick_true*100,1)))\n",
    "print('staff_pick: False, Project success rate: {}%'.format(round(staff_pick_false*100,1)))\n",
    "print('spotlight: True, Project success rate: {}%'.format(round(spotlight_true*100,1)))\n",
    "print('spotlight: False, Project success rate: {}%'.format(round(spotlight_false*100,1)))"
   ]
  }
 ],
 "metadata": {
  "kernelspec": {
   "display_name": "Python 3",
   "language": "python",
   "name": "python3"
  },
  "language_info": {
   "codemirror_mode": {
    "name": "ipython",
    "version": 3
   },
   "file_extension": ".py",
   "mimetype": "text/x-python",
   "name": "python",
   "nbconvert_exporter": "python",
   "pygments_lexer": "ipython3",
   "version": "3.7.4"
  }
 },
 "nbformat": 4,
 "nbformat_minor": 2
}
